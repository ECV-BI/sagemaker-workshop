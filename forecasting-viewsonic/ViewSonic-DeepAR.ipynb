{
 "cells": [
  {
   "cell_type": "code",
   "execution_count": null,
   "id": "233270ec",
   "metadata": {},
   "outputs": [],
   "source": [
    "import time\n",
    "import numpy as np\n",
    "import pandas as pd\n",
    "import json\n",
    "import matplotlib.pyplot as plt\n",
    "import boto3\n",
    "import sagemaker\n",
    "from sagemaker import get_execution_role\n",
    "np.random.seed(1)"
   ]
  },
  {
   "cell_type": "code",
   "execution_count": null,
   "id": "c4caacb7",
   "metadata": {},
   "outputs": [],
   "source": [
    "#!pip install pandas_profiling\n",
    "#from pandas_profiling import ProfileReport"
   ]
  },
  {
   "cell_type": "code",
   "execution_count": null,
   "id": "7266dee5",
   "metadata": {},
   "outputs": [],
   "source": [
    "parquet_file = r'/home/ec2-user/SageMaker/viewsonic/test_usermart_2020.parquet'\n",
    "data = pd.read_parquet(parquet_file, engine='auto') \n",
    "data = data.rename(columns={\"count\": \"count_number\"})"
   ]
  },
  {
   "cell_type": "code",
   "execution_count": null,
   "id": "7c6802cd",
   "metadata": {},
   "outputs": [],
   "source": [
    "data.head(10)"
   ]
  },
  {
   "cell_type": "code",
   "execution_count": null,
   "id": "56bde193",
   "metadata": {},
   "outputs": [],
   "source": [
    "#profile = ProfileReport(data)\n",
    "#profile.to_file(output_file='output.html')"
   ]
  },
  {
   "cell_type": "code",
   "execution_count": null,
   "id": "4c0e4b05",
   "metadata": {},
   "outputs": [],
   "source": [
    "freq = \"7D\"\n",
    "context_length = 37\n",
    "prediction_length = 8"
   ]
  },
  {
   "cell_type": "code",
   "execution_count": null,
   "id": "22b51538",
   "metadata": {},
   "outputs": [],
   "source": [
    "time_series = []\n",
    "for country in data.country_name.unique():\n",
    "    country_time_series = data[data.country_name == country].groupby(by='start_date').sum()['count_number'].to_period(freq)\n",
    "    time_series.append(pd.Series(data=country_time_series, index=country_time_series.index))"
   ]
  },
  {
   "cell_type": "code",
   "execution_count": null,
   "id": "b107fac1",
   "metadata": {},
   "outputs": [],
   "source": [
    "pd.Series([len(i) for i in time_series]).describe()"
   ]
  },
  {
   "cell_type": "code",
   "execution_count": null,
   "id": "0db34de0",
   "metadata": {},
   "outputs": [],
   "source": [
    "time_series_training = []\n",
    "for ts in time_series:\n",
    "    time_series_training.append(ts[:-prediction_length])"
   ]
  },
  {
   "cell_type": "code",
   "execution_count": null,
   "id": "a879f33a",
   "metadata": {},
   "outputs": [],
   "source": [
    "time_series[0].plot(label=\"test\")\n",
    "time_series_training[0].plot(label=\"train\", ls=\":\")\n",
    "plt.legend()\n",
    "plt.show()"
   ]
  },
  {
   "cell_type": "code",
   "execution_count": null,
   "id": "1756a4b1",
   "metadata": {},
   "outputs": [],
   "source": [
    "def series_to_obj(ts, cat=None):\n",
    "    obj = {\"start\": str(ts.index[0]), \"target\": list(ts)}\n",
    "    if cat is not None:\n",
    "        obj[\"cat\"] = cat\n",
    "    return obj\n",
    "\n",
    "\n",
    "def series_to_jsonline(ts, cat=None):\n",
    "    return json.dumps(series_to_obj(ts, cat))"
   ]
  },
  {
   "cell_type": "code",
   "execution_count": null,
   "id": "cd16dc15",
   "metadata": {},
   "outputs": [],
   "source": [
    "bucket = '2021-viewsonic'\n",
    "prefix = \"sagemaker/DEMO-deepar\"\n",
    "encoding = \"utf-8\"\n",
    "FILE_TRAIN = \"train.json\"\n",
    "FILE_TEST = \"test.json\"\n",
    "with open(FILE_TRAIN, \"wb\") as f:\n",
    "    for ts in time_series_training:\n",
    "        f.write(series_to_jsonline(ts).encode(encoding))\n",
    "        f.write(\"\\n\".encode(encoding))\n",
    "\n",
    "with open(FILE_TEST, \"wb\") as f:\n",
    "    for ts in time_series:\n",
    "        f.write(series_to_jsonline(ts).encode(encoding))\n",
    "        f.write(\"\\n\".encode(encoding))\n",
    "s3 = boto3.client(\"s3\")\n",
    "s3.upload_file(FILE_TRAIN, bucket, prefix + \"/data/train/\" + FILE_TRAIN)\n",
    "s3.upload_file(FILE_TEST, bucket, prefix + \"/data/test/\" + FILE_TRAIN)"
   ]
  },
  {
   "cell_type": "markdown",
   "id": "2e03ebf2",
   "metadata": {},
   "source": [
    "### Train a model"
   ]
  },
  {
   "cell_type": "code",
   "execution_count": null,
   "id": "71a37f2c",
   "metadata": {},
   "outputs": [],
   "source": [
    "sagemaker_session = sagemaker.Session()\n",
    "from sagemaker.amazon.amazon_estimator import get_image_uri\n",
    "\n",
    "image_uri = get_image_uri(boto3.Session().region_name, \"forecasting-deepar\")\n",
    "role = get_execution_role()\n",
    "s3_output_path = f\"{bucket}/{prefix}/output\"\n",
    "\n",
    "estimator = sagemaker.estimator.Estimator(\n",
    "    sagemaker_session=sagemaker_session,\n",
    "    image_uri=image_uri,\n",
    "    role=role,\n",
    "    instance_count=1,\n",
    "    instance_type=\"ml.c4.xlarge\",\n",
    "    base_job_name=\"viewsonic-DEMO-deepar\",\n",
    "    output_path=f\"s3://{s3_output_path}\",\n",
    ")"
   ]
  },
  {
   "cell_type": "code",
   "execution_count": null,
   "id": "e3bb9834",
   "metadata": {},
   "outputs": [],
   "source": [
    "hyperparameters = {\n",
    "    \"time_freq\": freq,\n",
    "    \"context_length\": str(context_length),\n",
    "    \"prediction_length\": str(prediction_length),\n",
    "    \"num_cells\": \"40\",\n",
    "    \"num_layers\": \"3\",\n",
    "    \"likelihood\": \"gaussian\",\n",
    "    \"epochs\": \"20\",\n",
    "    \"mini_batch_size\": \"32\",\n",
    "    \"learning_rate\": \"0.001\",\n",
    "    \"dropout_rate\": \"0.05\",\n",
    "    \"early_stopping_patience\": \"10\",\n",
    "}"
   ]
  },
  {
   "cell_type": "code",
   "execution_count": null,
   "id": "48f1cf75",
   "metadata": {},
   "outputs": [],
   "source": [
    "estimator.set_hyperparameters(**hyperparameters)"
   ]
  },
  {
   "cell_type": "code",
   "execution_count": null,
   "id": "95b0ae57",
   "metadata": {},
   "outputs": [],
   "source": [
    "s3_data_path = f\"{bucket}/{prefix}/data\"\n",
    "data_channels = {\"train\": f\"s3://{s3_data_path}/train/\", \"test\": f\"s3://{s3_data_path}/test/\"}\n",
    "\n",
    "estimator.fit(inputs=data_channels)"
   ]
  },
  {
   "cell_type": "markdown",
   "id": "c62971a0",
   "metadata": {},
   "source": [
    "### Create endpoint and predictor"
   ]
  },
  {
   "cell_type": "code",
   "execution_count": null,
   "id": "530072b2",
   "metadata": {},
   "outputs": [],
   "source": [
    "job_name = estimator.latest_training_job.name\n",
    "\n",
    "endpoint_name = sagemaker_session.endpoint_from_job(\n",
    "    job_name=job_name,\n",
    "    initial_instance_count=1,\n",
    "    instance_type=\"ml.m4.xlarge\",\n",
    "    image_uri=image_uri,\n",
    "    role=role,\n",
    ")"
   ]
  },
  {
   "cell_type": "code",
   "execution_count": null,
   "id": "243701e2",
   "metadata": {},
   "outputs": [],
   "source": [
    "class DeepARPredictor(sagemaker.predictor.RealTimePredictor):\n",
    "    def set_prediction_parameters(self, freq, prediction_length):\n",
    "        \"\"\"Set the time frequency and prediction length parameters. This method **must** be called\n",
    "        before being able to use `predict`.\n",
    "\n",
    "        Parameters:\n",
    "        freq -- string indicating the time frequency\n",
    "        prediction_length -- integer, number of predicted time points\n",
    "\n",
    "        Return value: none.\n",
    "        \"\"\"\n",
    "        self.freq = freq\n",
    "        self.prediction_length = prediction_length\n",
    "\n",
    "    def predict(self, ts, cat=None, encoding=\"utf-8\", num_samples=100, quantiles=[\"0.1\", \"0.5\", \"0.9\"], content_type=\"application/json\"):\n",
    "        \"\"\"Requests the prediction of for the time series listed in `ts`, each with the (optional)\n",
    "        corresponding category listed in `cat`.\n",
    "\n",
    "        Parameters:\n",
    "        ts -- list of `pandas.Series` objects, the time series to predict\n",
    "        cat -- list of integers (default: None)\n",
    "        encoding -- string, encoding to use for the request (default: \"utf-8\")\n",
    "        num_samples -- integer, number of samples to compute at prediction time (default: 100)\n",
    "        quantiles -- list of strings specifying the quantiles to compute (default: [\"0.1\", \"0.5\", \"0.9\"])\n",
    "\n",
    "        Return value: list of `pandas.DataFrame` objects, each containing the predictions\n",
    "        \"\"\"\n",
    "        prediction_times = [x.index[-1] + pd.Timedelta(7, unit='D') for x in ts]\n",
    "        req = self.__encode_request(ts, cat, encoding, num_samples, quantiles)\n",
    "        res = super(DeepARPredictor, self).predict(req, initial_args={\"ContentType\": content_type})\n",
    "        return self.__decode_response(res, prediction_times, encoding)\n",
    "\n",
    "    def __encode_request(self, ts, cat, encoding, num_samples, quantiles):\n",
    "        instances = [series_to_obj(ts[k], cat[k] if cat else None) for k in range(len(ts))]\n",
    "        configuration = {\n",
    "            \"num_samples\": num_samples,\n",
    "            \"output_types\": [\"quantiles\"],\n",
    "            \"quantiles\": quantiles,\n",
    "        }\n",
    "        http_request_data = {\"instances\": instances, \"configuration\": configuration}\n",
    "        return json.dumps(http_request_data).encode(encoding)\n",
    "\n",
    "    def __decode_response(self, response, prediction_times, encoding):\n",
    "        response_data = json.loads(response.decode(encoding))\n",
    "        list_of_df = []\n",
    "        for k in range(len(prediction_times)):\n",
    "            prediction_index = pd.date_range(\n",
    "                start=prediction_times[k].to_timestamp(), freq='7D', periods=self.prediction_length\n",
    "            )\n",
    "            \n",
    "            list_of_df.append(\n",
    "                pd.DataFrame(data=response_data[\"predictions\"][k][\"quantiles\"], index=prediction_index)\n",
    "            )\n",
    "        return list_of_df"
   ]
  },
  {
   "cell_type": "code",
   "execution_count": null,
   "id": "41cfe4dd",
   "metadata": {},
   "outputs": [],
   "source": [
    "predictor = DeepARPredictor(endpoint_name=endpoint_name, sagemaker_session=sagemaker_session)\n",
    "predictor.set_prediction_parameters(freq, prediction_length)"
   ]
  },
  {
   "cell_type": "code",
   "execution_count": null,
   "id": "a5be9339",
   "metadata": {},
   "outputs": [],
   "source": []
  },
  {
   "cell_type": "markdown",
   "id": "4fb643b5",
   "metadata": {},
   "source": [
    "### Make predictions and plot results"
   ]
  },
  {
   "cell_type": "code",
   "execution_count": null,
   "id": "4ff69be1",
   "metadata": {},
   "outputs": [],
   "source": [
    "list_of_df = predictor.predict(time_series_training[:10], content_type=\"application/json\")\n",
    "actual_data = time_series[:10]"
   ]
  },
  {
   "cell_type": "code",
   "execution_count": null,
   "id": "e57768b3",
   "metadata": {},
   "outputs": [],
   "source": [
    "for k in range(len(list_of_df)):\n",
    "    plt.figure(figsize=(12, 6))\n",
    "    print(actual_data[k][-prediction_length:].to_list())\n",
    "    actual_data[k][-prediction_length - context_length :].plot(label=\"target\")\n",
    "    p10 = list_of_df[k][\"0.1\"]\n",
    "    p90 = list_of_df[k][\"0.9\"]\n",
    "    plt.fill_between(p10.index, p10, p90, color=\"y\", alpha=0.5, label=\"80% confidence interval\")\n",
    "    print(list_of_df[k][\"0.5\"].to_list())\n",
    "    list_of_df[k][\"0.5\"].plot(label=\"prediction median\")\n",
    "    plt.legend()\n",
    "    plt.show()"
   ]
  },
  {
   "cell_type": "code",
   "execution_count": null,
   "id": "a433026c",
   "metadata": {},
   "outputs": [],
   "source": []
  },
  {
   "cell_type": "code",
   "execution_count": null,
   "id": "e7ef4543",
   "metadata": {},
   "outputs": [],
   "source": []
  }
 ],
 "metadata": {
  "kernelspec": {
   "display_name": "conda_python3",
   "language": "python",
   "name": "conda_python3"
  },
  "language_info": {
   "codemirror_mode": {
    "name": "ipython",
    "version": 3
   },
   "file_extension": ".py",
   "mimetype": "text/x-python",
   "name": "python",
   "nbconvert_exporter": "python",
   "pygments_lexer": "ipython3",
   "version": "3.6.13"
  }
 },
 "nbformat": 4,
 "nbformat_minor": 5
}
